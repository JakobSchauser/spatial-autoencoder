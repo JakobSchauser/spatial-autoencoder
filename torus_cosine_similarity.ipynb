{
 "cells": [
  {
   "cell_type": "markdown",
   "id": "c00a9fdf",
   "metadata": {},
   "source": [
    "# Torus Detection via Latent Cosine Similarity\n",
    "\n",
    "This notebook loads the trained GAT point cloud autoencoder, generates rotation/scale augmentations of each shape in `point_cloud_data/pointcloud_shapes_v1`, builds latent embeddings with the encoder, and classifies whether a sample is a torus using cosine similarity to a torus prototype latent.\n",
    "\n",
    "Workflow:\n",
    "1. Load checkpoint & model (encoder part of the autoencoder).\n",
    "2. Enumerate all *.npy shapes; choose 'torus_surface' as positive class.\n",
    "3. For each shape, create multiple random SO(3) rotations and scalings, encode to latent (mean-pooled).\n",
    "4. Build a torus prototype (mean latent over torus augmentations).\n",
    "5. Compute cosine similarities of all augmented samples to prototype.\n",
    "6. Select decision threshold maximizing F1 (scan over candidate thresholds).\n",
    "7. Report metrics & visualize similarity distributions and ROC.\n",
    "8. Provide a helper cell to classify an arbitrary new point cloud file.\n",
    "\n",
    "You can adjust augmentation counts, rotation mode, scaling range, and threshold strategy below."
   ]
  },
  {
   "cell_type": "code",
   "execution_count": 17,
   "id": "a7e3e4df",
   "metadata": {},
   "outputs": [
    {
     "name": "stdout",
     "output_type": "stream",
     "text": [
      "Device: cpu\n"
     ]
    }
   ],
   "source": [
    "# Section 1: Imports & Configuration\n",
    "import os, math, json, random, sys\n",
    "from pathlib import Path\n",
    "import numpy as np\n",
    "import torch\n",
    "from torch import nn\n",
    "import torch.nn.functional as F\n",
    "import matplotlib.pyplot as plt\n",
    "\n",
    "# Optional dependencies (silently skipped if unavailable)\n",
    "try:\n",
    "    from sklearn.metrics import roc_curve, auc, precision_recall_fscore_support, classification_report\n",
    "except Exception:\n",
    "    roc_curve = auc = precision_recall_fscore_support = classification_report = None\n",
    "try:\n",
    "    import pandas as pd\n",
    "except Exception:\n",
    "    pd = None\n",
    "\n",
    "# Ensure project root in path\n",
    "ROOT = Path(os.getcwd()).resolve()\n",
    "if str(ROOT) not in sys.path: sys.path.insert(0, str(ROOT))\n",
    "\n",
    "from models.gat_autoencoder import GATPointCloudAutoencoder  # noqa: E402\n",
    "from train import build_knn_graph, random_so3_matrix  # noqa: E402\n",
    "\n",
    "# Paths / parameters (edit as needed)\n",
    "DATA_DIR = Path('point_cloud_data/pointcloud_shapes_v1')\n",
    "CHECKPOINT_PATH = Path('runs/so3_scale_run/best.pt')  # adjust to your run\n",
    "OUTPUT_DIR = Path('evaluation_outputs'); OUTPUT_DIR.mkdir(exist_ok=True, parents=True)\n",
    "DEVICE = torch.device('cuda' if torch.cuda.is_available() else 'cpu')\n",
    "\n",
    "# Augmentation controls\n",
    "N_AUG = 20              # number of augmented samples per original file\n",
    "ROTATION_MODE = 'so3'   # 'so3' for full 3D, 'z' for axial\n",
    "SCALE_MIN, SCALE_MAX = 0.2, 2.\n",
    "APPLY_JITTER = False\n",
    "JITTER_STD = 0.005\n",
    "\n",
    "# Graph / model inference\n",
    "K_NEIGHBORS = 16         # will fallback to checkpoint value if provided\n",
    "POSITIVE_SHAPE_NAME = 'torus_surface'  # substring or exact stem identifying torus\n",
    "\n",
    "random.seed(42); np.random.seed(42); torch.manual_seed(42)\n",
    "if torch.cuda.is_available(): torch.cuda.manual_seed_all(42)\n",
    "print('Device:', DEVICE)"
   ]
  },
  {
   "cell_type": "code",
   "execution_count": 18,
   "id": "e786fb33",
   "metadata": {},
   "outputs": [
    {
     "name": "stdout",
     "output_type": "stream",
     "text": [
      "Loaded model with latent_dim = 8\n"
     ]
    }
   ],
   "source": [
    "# Section 2: Load Checkpoint & Instantiate Model\n",
    "assert CHECKPOINT_PATH.exists(), f'Checkpoint not found: {CHECKPOINT_PATH}'\n",
    "ckpt = torch.load(CHECKPOINT_PATH, map_location=DEVICE)\n",
    "cfg = ckpt.get('cfg', {})\n",
    "latent_dim_ckpt = cfg.get('latent_dim', 64)\n",
    "in_channels = cfg.get('in_channels', 3)\n",
    "hidden_dims = cfg.get('hidden_dims', (64,128))\n",
    "heads = cfg.get('heads', 4)\n",
    "dropout = cfg.get('dropout', 0.1)\n",
    "decode_hidden = cfg.get('decode_hidden', (128,))\n",
    "K_NEIGHBORS = cfg.get('k', K_NEIGHBORS)\n",
    "model = GATPointCloudAutoencoder(in_channels=in_channels, hidden_dims=hidden_dims, latent_dim=latent_dim_ckpt, heads=heads, dropout=dropout, decode_hidden_dims=decode_hidden).to(DEVICE)\n",
    "model.load_state_dict(ckpt['model_state'])\n",
    "model.eval()\n",
    "print('Loaded model with latent_dim =', latent_dim_ckpt)"
   ]
  },
  {
   "cell_type": "code",
   "execution_count": 19,
   "id": "70b6ef80",
   "metadata": {},
   "outputs": [],
   "source": [
    "# Section 3: Utility Functions (augmentation & encoding)\n",
    "def z_axis_rotation_matrix(device):\n",
    "    theta = torch.rand((), device=device) * (2 * math.pi)\n",
    "    c, s = torch.cos(theta), torch.sin(theta)\n",
    "    R = torch.zeros(3,3, device=device)\n",
    "    R[0,0]=c; R[0,1]=-s; R[1,0]=s; R[1,1]=c; R[2,2]=1.0\n",
    "    return R\n",
    "\n",
    "def apply_augment(pts: torch.Tensor) -> torch.Tensor:\n",
    "    # pts: (N, D) torch float32\n",
    "    out = pts.clone()\n",
    "    center = out[:, :3].mean(0, keepdim=True)\n",
    "    if ROTATION_MODE == 'so3':\n",
    "        R = random_so3_matrix(out.device)\n",
    "    elif ROTATION_MODE == 'z':\n",
    "        R = z_axis_rotation_matrix(out.device)\n",
    "    else:\n",
    "        R = torch.eye(3, device=out.device)\n",
    "    out_xyz = out[:, :3] - center\n",
    "    out[:, :3] = (R @ out_xyz.T).T + center\n",
    "    scale = torch.empty(1, device=out.device).uniform_(SCALE_MIN, SCALE_MAX)\n",
    "    out[:, :3] = (out[:, :3] - center) * scale + center\n",
    "    if APPLY_JITTER and JITTER_STD > 0:\n",
    "        out = out + torch.randn_like(out) * JITTER_STD\n",
    "    return out\n",
    "\n",
    "@torch.no_grad()\n",
    "def encode_point_cloud(arr: np.ndarray) -> torch.Tensor:\n",
    "    # arr shape (N,D)\n",
    "    pts = torch.from_numpy(arr.astype(np.float32)).to(DEVICE)\n",
    "    # augment\n",
    "    pts_aug = apply_augment(pts)\n",
    "    edge_index = build_knn_graph(pts_aug[:, :3], k=K_NEIGHBORS).to(DEVICE)\n",
    "    _, z = model(pts_aug, edge_index)\n",
    "    # mean pool nodes -> global latent\n",
    "    return z.mean(0)  # (latent_dim,)"
   ]
  },
  {
   "cell_type": "code",
   "execution_count": 20,
   "id": "bc4b8732",
   "metadata": {},
   "outputs": [
    {
     "name": "stdout",
     "output_type": "stream",
     "text": [
      "Found 9 files\n",
      " - cone_surface.npy\n",
      " - cube_surface.npy\n",
      " - cylinder_surface.npy\n",
      " - disk.npy\n",
      " - pyramid_square_surface.npy\n",
      " - sphere_surface.npy\n",
      " - square_plane.npy\n",
      " - torus_surface.npy\n",
      " - triangle_eq.npy\n"
     ]
    }
   ],
   "source": [
    "# Section 4: Load Point Cloud Files\n",
    "assert DATA_DIR.exists() and DATA_DIR.is_dir(), f'Data directory missing: {DATA_DIR}'\n",
    "pc_files = sorted([p for p in DATA_DIR.glob('*.npy')])\n",
    "assert pc_files, 'No .npy files found.'\n",
    "print('Found', len(pc_files), 'files')\n",
    "for p in pc_files: print(' -', p.name)"
   ]
  },
  {
   "cell_type": "code",
   "execution_count": 21,
   "id": "8de9f21d",
   "metadata": {},
   "outputs": [
    {
     "name": "stdout",
     "output_type": "stream",
     "text": [
      "Completed latent generation.\n",
      "Total augmented samples: 180\n"
     ]
    }
   ],
   "source": [
    "# Section 5: Generate Augmented Latents for Each Shape\n",
    "all_latents = []  # list of tensors (latent_dim,)\n",
    "all_labels = []   # 1 if torus, else 0\n",
    "all_shapes = []   # shape name per latent\n",
    "shape_to_latents = {}  # dict for prototype computation\n",
    "\n",
    "for f in pc_files:\n",
    "    arr = np.load(f)\n",
    "    if arr.ndim == 3:  # take first if batched\n",
    "        arr = arr[0]\n",
    "    assert arr.ndim == 2, f'Unexpected shape for {f.name}: {arr.shape}'\n",
    "    lat_list = []\n",
    "    for i in range(N_AUG):\n",
    "        lat = encode_point_cloud(arr)\n",
    "        lat_list.append(lat.cpu())\n",
    "        all_latents.append(lat.cpu())\n",
    "        all_shapes.append(f.stem)\n",
    "        label = 1 if POSITIVE_SHAPE_NAME in f.stem else 0\n",
    "        all_labels.append(label)\n",
    "    shape_to_latents[f.stem] = torch.stack(lat_list, dim=0)\n",
    "print('Completed latent generation.')\n",
    "print('Total augmented samples:', len(all_latents))"
   ]
  },
  {
   "cell_type": "code",
   "execution_count": 22,
   "id": "d0baed30",
   "metadata": {},
   "outputs": [
    {
     "name": "stdout",
     "output_type": "stream",
     "text": [
      "Torus prototype vector norm: 0.15229491889476776\n",
      "Torus augmentations used: 20\n"
     ]
    }
   ],
   "source": [
    "# Section 6: Build Torus Prototype Latent\n",
    "assert any(POSITIVE_SHAPE_NAME in s for s in shape_to_latents.keys()), 'Torus shape not found. Adjust POSITIVE_SHAPE_NAME.'\n",
    "torus_keys = [k for k in shape_to_latents if POSITIVE_SHAPE_NAME in k]\n",
    "torus_latents = torch.cat([shape_to_latents[k] for k in torus_keys], dim=0)\n",
    "prototype = torus_latents.mean(0)  # (latent_dim,)\n",
    "print('Torus prototype vector norm:', prototype.norm().item())\n",
    "print('Torus augmentations used:', torus_latents.shape[0])"
   ]
  },
  {
   "cell_type": "code",
   "execution_count": 23,
   "id": "e86ed6c0",
   "metadata": {},
   "outputs": [
    {
     "name": "stdout",
     "output_type": "stream",
     "text": [
      "Score stats: min=0.0429 max=0.9996 mean=0.6623\n"
     ]
    }
   ],
   "source": [
    "# Section 7: Cosine Similarity Scores\n",
    "lat_matrix = torch.stack(all_latents, dim=0)  # (M, latent_dim)\n",
    "proto_norm = prototype / (prototype.norm() + 1e-8)\n",
    "scores = F.linear(lat_matrix, proto_norm.unsqueeze(0))  # cosine since proto is normalized, but need to normalize latents too\n",
    "lat_norms = lat_matrix / (lat_matrix.norm(dim=1, keepdim=True) + 1e-8)\n",
    "cos_scores = (lat_norms * proto_norm).sum(dim=1).cpu().numpy()\n",
    "labels_np = np.array(all_labels)\n",
    "shapes_np = np.array(all_shapes)\n",
    "print('Score stats: min={:.4f} max={:.4f} mean={:.4f}'.format(cos_scores.min(), cos_scores.max(), cos_scores.mean()))"
   ]
  },
  {
   "cell_type": "code",
   "execution_count": 24,
   "id": "608305c6",
   "metadata": {},
   "outputs": [
    {
     "name": "stdout",
     "output_type": "stream",
     "text": [
      "Best threshold 0.9348 | F1 1.0000 | Precision 1.0000 | Recall 1.0000\n"
     ]
    },
    {
     "data": {
      "text/plain": [
       "{'f1': 0.9999999945,\n",
       " 'thr': 0.9348270707112506,\n",
       " 'precision': 0.9999999995,\n",
       " 'recall': 0.9999999995}"
      ]
     },
     "execution_count": 24,
     "metadata": {},
     "output_type": "execute_result"
    }
   ],
   "source": [
    "# Section 8: Threshold Selection (maximize F1)\n",
    "def compute_metrics(preds, labels):\n",
    "    tp = ((preds == 1) & (labels == 1)).sum()\n",
    "    fp = ((preds == 1) & (labels == 0)).sum()\n",
    "    fn = ((preds == 0) & (labels == 1)).sum()\n",
    "    precision = tp / (tp + fp + 1e-8)\n",
    "    recall = tp / (tp + fn + 1e-8)\n",
    "    f1 = 2*precision*recall / (precision + recall + 1e-8)\n",
    "    return precision, recall, f1, tp, fp, fn\n",
    "\n",
    "thr_candidates = np.linspace(cos_scores.min(), cos_scores.max(), 400)\n",
    "best = {'f1': -1, 'thr': None, 'precision': None, 'recall': None}\n",
    "for thr in thr_candidates:\n",
    "    preds = (cos_scores >= thr).astype(int)\n",
    "    precision, recall, f1, tp, fp, fn = compute_metrics(preds, labels_np)\n",
    "    if f1 > best['f1']:\n",
    "        best = {'f1': f1, 'thr': thr, 'precision': precision, 'recall': recall}\n",
    "\n",
    "print('Best threshold {:.4f} | F1 {:.4f} | Precision {:.4f} | Recall {:.4f}'.format(best['thr'], best['f1'], best['precision'], best['recall']))\n",
    "best_threshold = best['thr']\n",
    "best"
   ]
  },
  {
   "cell_type": "code",
   "execution_count": 25,
   "id": "02125f32",
   "metadata": {},
   "outputs": [
    {
     "data": {
      "image/png": "[encoded data removed]",
      "text/plain": [
       "<Figure size 600x400 with 1 Axes>"
      ]
     },
     "metadata": {},
     "output_type": "display_data"
    },
    {
     "data": {
      "image/png": "[encoded data removed]",
      "text/plain": [
       "<Figure size 400x400 with 1 Axes>"
      ]
     },
     "metadata": {},
     "output_type": "display_data"
    }
   ],
   "source": [
    "# Section 9: Visualization of Score Distributions & ROC (if sklearn available)\n",
    "pos_scores = cos_scores[labels_np==1]\n",
    "neg_scores = cos_scores[labels_np==0]\n",
    "plt.figure(figsize=(6,4))\n",
    "plt.hist(pos_scores, bins=20, alpha=0.6, label='Torus (+)', color='tab:blue')\n",
    "plt.hist(neg_scores, bins=20, alpha=0.6, label='Non-torus (-)', color='tab:orange')\n",
    "plt.axvline(best_threshold, color='k', linestyle='--', label='Best thr')\n",
    "plt.xlabel('Cosine Similarity'); plt.ylabel('Count'); plt.title('Similarity Distributions')\n",
    "plt.legend(); plt.tight_layout(); plt.show()\n",
    "\n",
    "if roc_curve is not None:\n",
    "    fpr, tpr, _ = roc_curve(labels_np, cos_scores)\n",
    "    roc_auc = auc(fpr, tpr)\n",
    "    plt.figure(figsize=(4,4))\n",
    "    plt.plot(fpr, tpr, label=f'AUC={roc_auc:.3f}')\n",
    "    plt.plot([0,1],[0,1],'k--')\n",
    "    plt.xlabel('FPR'); plt.ylabel('TPR'); plt.title('ROC Curve')\n",
    "    plt.legend(); plt.tight_layout(); plt.show()\n",
    "else:\n",
    "    print('sklearn not available; skipping ROC plot.')"
   ]
  },
  {
   "cell_type": "code",
   "execution_count": 26,
   "id": "dbef8f1d",
   "metadata": {},
   "outputs": [
    {
     "name": "stdout",
     "output_type": "stream",
     "text": [
      "              precision    recall  f1-score   support\n",
      "\n",
      "   non_torus       1.00      1.00      1.00       160\n",
      "       torus       1.00      1.00      1.00        20\n",
      "\n",
      "    accuracy                           1.00       180\n",
      "   macro avg       1.00      1.00      1.00       180\n",
      "weighted avg       1.00      1.00      1.00       180\n",
      "\n"
     ]
    }
   ],
   "source": [
    "# Section 10: Detailed Classification Report (if sklearn)\n",
    "if classification_report is not None:\n",
    "    preds_best = (cos_scores >= best_threshold).astype(int)\n",
    "    print(classification_report(labels_np, preds_best, target_names=['non_torus','torus']))\n",
    "else:\n",
    "    print('sklearn not available; raw counts:', best)"
   ]
  },
  {
   "cell_type": "code",
   "execution_count": 14,
   "id": "a6733bff",
   "metadata": {},
   "outputs": [
    {
     "data": {
      "text/html": [
       "<div>\n",
       "<style scoped>\n",
       "    .dataframe tbody tr th:only-of-type {\n",
       "        vertical-align: middle;\n",
       "    }\n",
       "\n",
       "    .dataframe tbody tr th {\n",
       "        vertical-align: top;\n",
       "    }\n",
       "\n",
       "    .dataframe thead th {\n",
       "        text-align: right;\n",
       "    }\n",
       "</style>\n",
       "<table border=\"1\" class=\"dataframe\">\n",
       "  <thead>\n",
       "    <tr style=\"text-align: right;\">\n",
       "      <th></th>\n",
       "      <th>shape</th>\n",
       "      <th>label</th>\n",
       "      <th>score</th>\n",
       "      <th>pred</th>\n",
       "    </tr>\n",
       "  </thead>\n",
       "  <tbody>\n",
       "    <tr>\n",
       "      <th>0</th>\n",
       "      <td>cone_surface</td>\n",
       "      <td>0</td>\n",
       "      <td>0.054433</td>\n",
       "      <td>0</td>\n",
       "    </tr>\n",
       "    <tr>\n",
       "      <th>1</th>\n",
       "      <td>cone_surface</td>\n",
       "      <td>0</td>\n",
       "      <td>0.051732</td>\n",
       "      <td>0</td>\n",
       "    </tr>\n",
       "    <tr>\n",
       "      <th>2</th>\n",
       "      <td>cone_surface</td>\n",
       "      <td>0</td>\n",
       "      <td>0.054325</td>\n",
       "      <td>0</td>\n",
       "    </tr>\n",
       "    <tr>\n",
       "      <th>3</th>\n",
       "      <td>cone_surface</td>\n",
       "      <td>0</td>\n",
       "      <td>0.059331</td>\n",
       "      <td>0</td>\n",
       "    </tr>\n",
       "    <tr>\n",
       "      <th>4</th>\n",
       "      <td>cone_surface</td>\n",
       "      <td>0</td>\n",
       "      <td>0.049190</td>\n",
       "      <td>0</td>\n",
       "    </tr>\n",
       "  </tbody>\n",
       "</table>\n",
       "</div>"
      ],
      "text/plain": [
       "          shape  label     score  pred\n",
       "0  cone_surface      0  0.054433     0\n",
       "1  cone_surface      0  0.051732     0\n",
       "2  cone_surface      0  0.054325     0\n",
       "3  cone_surface      0  0.059331     0\n",
       "4  cone_surface      0  0.049190     0"
      ]
     },
     "metadata": {},
     "output_type": "display_data"
    }
   ],
   "source": [
    "# Section 11: Results Table (optional pandas)\n",
    "preds_best = (cos_scores >= best_threshold).astype(int)\n",
    "if pd is not None:\n",
    "    df = pd.DataFrame({'shape': shapes_np, 'label': labels_np, 'score': cos_scores, 'pred': preds_best})\n",
    "    display(df.head())\n",
    "else:\n",
    "    print('Pandas not installed; showing first 5 samples:')\n",
    "    for i in range(min(5, len(cos_scores))):\n",
    "        print(shapes_np[i], labels_np[i], cos_scores[i], preds_best[i])"
   ]
  },
  {
   "cell_type": "code",
   "execution_count": 15,
   "id": "1685e86d",
   "metadata": {},
   "outputs": [
    {
     "name": "stdout",
     "output_type": "stream",
     "text": [
      "Saved results to evaluation_outputs\\torus_similarity_results.json\n"
     ]
    }
   ],
   "source": [
    "# Section 12: Save Artifacts\n",
    "results = {\n",
    "    'checkpoint': str(CHECKPOINT_PATH),\n",
    "    'latent_dim': int(latent_dim_ckpt),\n",
    "    'positive_shape_name': POSITIVE_SHAPE_NAME,\n",
    "    'n_aug': N_AUG,\n",
    "    'rotation_mode': ROTATION_MODE,\n",
    "    'scale_range': [SCALE_MIN, SCALE_MAX],\n",
    "    'k_neighbors': int(K_NEIGHBORS),\n",
    "    'best_threshold': float(best_threshold),\n",
    "    'best_metrics': best,\n",
    "}\n",
    "with open(OUTPUT_DIR / 'torus_similarity_results.json', 'w') as f:\n",
    "    json.dump(results, f, indent=2)\n",
    "print('Saved results to', OUTPUT_DIR / 'torus_similarity_results.json')"
   ]
  },
  {
   "cell_type": "code",
   "execution_count": 16,
   "id": "4c5519a7",
   "metadata": {},
   "outputs": [
    {
     "name": "stdout",
     "output_type": "stream",
     "text": [
      "Set NEW_FILE_PATH to classify a new sample.\n"
     ]
    }
   ],
   "source": [
    "# Section 13: Helper - Classify a New Point Cloud File\n",
    "NEW_FILE_PATH = None  # e.g., Path('some_new_cloud.npy')\n",
    "if NEW_FILE_PATH is not None:\n",
    "    p = Path(NEW_FILE_PATH); assert p.exists(), f'File not found: {p}'\n",
    "    arr = np.load(p)\n",
    "    if arr.ndim == 3: arr = arr[0]\n",
    "    lat = encode_point_cloud(arr)\n",
    "    lat_norm = lat / (lat.norm() + 1e-8)\n",
    "    score = torch.dot(lat_norm, prototype / (prototype.norm()+1e-8)).item()\n",
    "    pred = int(score >= best_threshold)\n",
    "    print(f'File: {p.name} | Cosine={score:.4f} | Predicted Torus={bool(pred)}')\n",
    "else:\n",
    "    print('Set NEW_FILE_PATH to classify a new sample.')"
   ]
  },
  {
   "cell_type": "code",
   "execution_count": null,
   "id": "d1295f66",
   "metadata": {},
   "outputs": [],
   "source": []
  },
  {
   "cell_type": "code",
   "execution_count": null,
   "id": "186c476f",
   "metadata": {},
   "outputs": [],
   "source": []
  }
 ],
 "metadata": {
  "kernelspec": {
   "display_name": "drosophila",
   "language": "python",
   "name": "python3"
  },
  "language_info": {
   "codemirror_mode": {
    "name": "ipython",
    "version": 3
   },
   "file_extension": ".py",
   "mimetype": "text/x-python",
   "name": "python",
   "nbconvert_exporter": "python",
   "pygments_lexer": "ipython3",
   "version": "3.10.13"
  }
 },
 "nbformat": 4,
 "nbformat_minor": 5
}
